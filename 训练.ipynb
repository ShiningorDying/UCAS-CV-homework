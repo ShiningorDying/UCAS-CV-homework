{
 "cells": [
  {
   "cell_type": "code",
   "execution_count": null,
   "id": "7d5f8c0f-a0db-45af-8659-d2c8d00abe6d",
   "metadata": {},
   "outputs": [],
   "source": [
    "from net import *"
   ]
  },
  {
   "cell_type": "code",
   "execution_count": null,
   "id": "7b46f87d-aa90-4116-b6fc-2435566552b5",
   "metadata": {},
   "outputs": [],
   "source": [
    "\n",
    "batch_size = 4\n",
    "device = \"cuda\"\n",
    "#if torch.cuda.is_available() else \"cpu\"\n",
    "backgroud_scale= 0.6  #设定背景错误率对LOSS的影响系数\n",
    "Dice_scale = 0.8  #Dice的比例\n",
    "learning_rate = 1e-5  #初始学习率\n",
    "epochs = 20   #训练轮次\n"
   ]
  },
  {
   "cell_type": "code",
   "execution_count": null,
   "id": "8228ec68-6585-49ce-9045-30f389797ddf",
   "metadata": {},
   "outputs": [],
   "source": [
    "#读入训练集数据\n",
    "dataset = LocalImaginesDataset('train_data', \"train_label\", transform_train)\n",
    "dataloader = DataLoader(dataset, batch_size=batch_size, shuffle=True)    \n",
    "#读入测试集数据\n",
    "dataset_val = LocalImaginesDataset('val_data', \"val_label\", transform_evaluate)\n",
    "dataloader_val = DataLoader(dataset_val, batch_size = 1  , shuffle=None)     # batch_size = 1节省内存"
   ]
  },
  {
   "cell_type": "code",
   "execution_count": null,
   "id": "5b9b5723-1eeb-4701-ad43-8993074c3d1a",
   "metadata": {
    "tags": []
   },
   "outputs": [],
   "source": [
    "#如果用自己的模型修改这格，注意首次图片输入格式应该为384*384 3通道\n",
    "\n",
    "model = Unet03(\n",
    "    init_dim = 8,\n",
    "    out_dim = 3, \n",
    "    dim_mults=(1, 2 , 4)\n",
    ")\n",
    "#如果想接着训练练，加上下面这个代码\n",
    "#model.load_state_dict(torch.load('test_02.pth'))\n",
    "model.to(device)"
   ]
  },
  {
   "cell_type": "code",
   "execution_count": null,
   "id": "435e9c92-fc2c-42b7-a774-0585ae2217ec",
   "metadata": {},
   "outputs": [],
   "source": [
    "\n",
    "train_loop(dataloader, dataloader_val , model, epochs  , Dice_scale = Dice_scale , backgroud_scale = backgroud_scale , learning_rate = learning_rate  ,device = \"cuda\")"
   ]
  },
  {
   "cell_type": "code",
   "execution_count": null,
   "id": "ad7e2dae-005f-4d5a-9639-e913a47c7ceb",
   "metadata": {},
   "outputs": [],
   "source": [
    "torch.save(model.state_dict(), 'test_weight.pth')\n",
    "plot_training()\n"
   ]
  }
 ],
 "metadata": {
  "kernelspec": {
   "display_name": "Python 3 (ipykernel)",
   "language": "python",
   "name": "python3"
  },
  "language_info": {
   "codemirror_mode": {
    "name": "ipython",
    "version": 3
   },
   "file_extension": ".py",
   "mimetype": "text/x-python",
   "name": "python",
   "nbconvert_exporter": "python",
   "pygments_lexer": "ipython3",
   "version": "3.10.10"
  }
 },
 "nbformat": 4,
 "nbformat_minor": 5
}
