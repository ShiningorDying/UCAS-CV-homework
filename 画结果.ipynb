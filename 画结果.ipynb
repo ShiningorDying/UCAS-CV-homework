{
 "cells": [
  {
   "cell_type": "code",
   "execution_count": null,
   "id": "d51384b4-6809-45ef-9133-b2b9c64fa021",
   "metadata": {},
   "outputs": [],
   "source": [
    "from net import *"
   ]
  },
  {
   "cell_type": "code",
   "execution_count": null,
   "id": "75aa4513-dd14-4363-8cb4-2049fd1eb584",
   "metadata": {
    "tags": []
   },
   "outputs": [],
   "source": [
    "#如果这里用了自己的模型，改这里\n",
    "model = Unet03(\n",
    "    init_dim = 8,\n",
    "    out_dim = 3, \n",
    "    dim_mults=(1, 2 , 4)\n",
    ")\n",
    "#用预训练数据\n",
    "model.load_state_dict(torch.load('test_02.pth'))\n",
    "#用“训练”文件得出的权重 ,二选一注释掉\n",
    "model.load_state_dict(torch.load('test_weight.pth'))\n",
    "\n",
    "model.to('cuda')"
   ]
  },
  {
   "cell_type": "code",
   "execution_count": null,
   "id": "9c574b07-f9ac-4edc-a255-13bb3df0a180",
   "metadata": {},
   "outputs": [],
   "source": [
    "#！！！这里读出来的是384*384 3通道\n",
    "dataset_trainplot = LocalImaginesDataset('train_data', \"train_label\", transform_evaluate)\n",
    "dataloader_trainplot = DataLoader(dataset_trainplot, batch_size = 1 , shuffle=None)    \n",
    "\n",
    "dataset_val = LocalImaginesDataset('val_data', \"val_label\", transform_evaluate)\n",
    "dataloader_val = DataLoader(dataset_val, batch_size = 1  , shuffle=None)     #batch_size=len(dataset_val)"
   ]
  },
  {
   "cell_type": "code",
   "execution_count": null,
   "id": "8ec07b77-00e7-466f-bbc6-35580d521ec5",
   "metadata": {
    "tags": []
   },
   "outputs": [],
   "source": [
    "#按准确率排序画图\n",
    "plot_train(model,dataset_trainplot)"
   ]
  },
  {
   "cell_type": "code",
   "execution_count": null,
   "id": "fc724f92-7409-4f73-bbab-289ec46e8a39",
   "metadata": {},
   "outputs": [],
   "source": [
    "plot_test(model,dataset_val)"
   ]
  }
 ],
 "metadata": {
  "kernelspec": {
   "display_name": "Python 3 (ipykernel)",
   "language": "python",
   "name": "python3"
  },
  "language_info": {
   "codemirror_mode": {
    "name": "ipython",
    "version": 3
   },
   "file_extension": ".py",
   "mimetype": "text/x-python",
   "name": "python",
   "nbconvert_exporter": "python",
   "pygments_lexer": "ipython3",
   "version": "3.10.10"
  }
 },
 "nbformat": 4,
 "nbformat_minor": 5
}
